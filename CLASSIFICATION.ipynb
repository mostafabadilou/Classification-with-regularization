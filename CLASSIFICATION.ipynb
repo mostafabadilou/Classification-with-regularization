{
 "cells": [
  {
   "cell_type": "code",
   "execution_count": 1,
   "id": "1eeb228a",
   "metadata": {},
   "outputs": [],
   "source": [
    "import numpy as np\n",
    "import pandas as pd\n",
    "import matplotlib.pyplot as plt\n",
    "import time"
   ]
  },
  {
   "cell_type": "code",
   "execution_count": 2,
   "id": "c99d5161",
   "metadata": {},
   "outputs": [],
   "source": [
    "#file reading\n",
    "data=pd.read_csv('mydata.txt',names=['exam1','exam2','admitted'])"
   ]
  },
  {
   "cell_type": "code",
   "execution_count": 3,
   "id": "6efeeebd",
   "metadata": {},
   "outputs": [
    {
     "data": {
      "text/html": [
       "<div>\n",
       "<style scoped>\n",
       "    .dataframe tbody tr th:only-of-type {\n",
       "        vertical-align: middle;\n",
       "    }\n",
       "\n",
       "    .dataframe tbody tr th {\n",
       "        vertical-align: top;\n",
       "    }\n",
       "\n",
       "    .dataframe thead th {\n",
       "        text-align: right;\n",
       "    }\n",
       "</style>\n",
       "<table border=\"1\" class=\"dataframe\">\n",
       "  <thead>\n",
       "    <tr style=\"text-align: right;\">\n",
       "      <th></th>\n",
       "      <th>exam1</th>\n",
       "      <th>exam2</th>\n",
       "      <th>admitted</th>\n",
       "    </tr>\n",
       "  </thead>\n",
       "  <tbody>\n",
       "    <tr>\n",
       "      <th>0</th>\n",
       "      <td>0.051267</td>\n",
       "      <td>0.69956</td>\n",
       "      <td>1</td>\n",
       "    </tr>\n",
       "    <tr>\n",
       "      <th>1</th>\n",
       "      <td>-0.092742</td>\n",
       "      <td>0.68494</td>\n",
       "      <td>1</td>\n",
       "    </tr>\n",
       "    <tr>\n",
       "      <th>2</th>\n",
       "      <td>-0.213710</td>\n",
       "      <td>0.69225</td>\n",
       "      <td>1</td>\n",
       "    </tr>\n",
       "    <tr>\n",
       "      <th>3</th>\n",
       "      <td>-0.375000</td>\n",
       "      <td>0.50219</td>\n",
       "      <td>1</td>\n",
       "    </tr>\n",
       "    <tr>\n",
       "      <th>4</th>\n",
       "      <td>-0.513250</td>\n",
       "      <td>0.46564</td>\n",
       "      <td>1</td>\n",
       "    </tr>\n",
       "  </tbody>\n",
       "</table>\n",
       "</div>"
      ],
      "text/plain": [
       "      exam1    exam2  admitted\n",
       "0  0.051267  0.69956         1\n",
       "1 -0.092742  0.68494         1\n",
       "2 -0.213710  0.69225         1\n",
       "3 -0.375000  0.50219         1\n",
       "4 -0.513250  0.46564         1"
      ]
     },
     "execution_count": 3,
     "metadata": {},
     "output_type": "execute_result"
    }
   ],
   "source": [
    "data.head()"
   ]
  },
  {
   "cell_type": "code",
   "execution_count": 4,
   "id": "9e8dabe3",
   "metadata": {},
   "outputs": [
    {
     "data": {
      "text/html": [
       "<div>\n",
       "<style scoped>\n",
       "    .dataframe tbody tr th:only-of-type {\n",
       "        vertical-align: middle;\n",
       "    }\n",
       "\n",
       "    .dataframe tbody tr th {\n",
       "        vertical-align: top;\n",
       "    }\n",
       "\n",
       "    .dataframe thead th {\n",
       "        text-align: right;\n",
       "    }\n",
       "</style>\n",
       "<table border=\"1\" class=\"dataframe\">\n",
       "  <thead>\n",
       "    <tr style=\"text-align: right;\">\n",
       "      <th></th>\n",
       "      <th>exam1</th>\n",
       "      <th>exam2</th>\n",
       "      <th>admitted</th>\n",
       "    </tr>\n",
       "  </thead>\n",
       "  <tbody>\n",
       "    <tr>\n",
       "      <th>count</th>\n",
       "      <td>118.000000</td>\n",
       "      <td>118.000000</td>\n",
       "      <td>118.000000</td>\n",
       "    </tr>\n",
       "    <tr>\n",
       "      <th>mean</th>\n",
       "      <td>0.054779</td>\n",
       "      <td>0.183102</td>\n",
       "      <td>0.491525</td>\n",
       "    </tr>\n",
       "    <tr>\n",
       "      <th>std</th>\n",
       "      <td>0.496654</td>\n",
       "      <td>0.519743</td>\n",
       "      <td>0.502060</td>\n",
       "    </tr>\n",
       "    <tr>\n",
       "      <th>min</th>\n",
       "      <td>-0.830070</td>\n",
       "      <td>-0.769740</td>\n",
       "      <td>0.000000</td>\n",
       "    </tr>\n",
       "    <tr>\n",
       "      <th>25%</th>\n",
       "      <td>-0.372120</td>\n",
       "      <td>-0.254385</td>\n",
       "      <td>0.000000</td>\n",
       "    </tr>\n",
       "    <tr>\n",
       "      <th>50%</th>\n",
       "      <td>-0.006336</td>\n",
       "      <td>0.213455</td>\n",
       "      <td>0.000000</td>\n",
       "    </tr>\n",
       "    <tr>\n",
       "      <th>75%</th>\n",
       "      <td>0.478970</td>\n",
       "      <td>0.646563</td>\n",
       "      <td>1.000000</td>\n",
       "    </tr>\n",
       "    <tr>\n",
       "      <th>max</th>\n",
       "      <td>1.070900</td>\n",
       "      <td>1.108900</td>\n",
       "      <td>1.000000</td>\n",
       "    </tr>\n",
       "  </tbody>\n",
       "</table>\n",
       "</div>"
      ],
      "text/plain": [
       "            exam1       exam2    admitted\n",
       "count  118.000000  118.000000  118.000000\n",
       "mean     0.054779    0.183102    0.491525\n",
       "std      0.496654    0.519743    0.502060\n",
       "min     -0.830070   -0.769740    0.000000\n",
       "25%     -0.372120   -0.254385    0.000000\n",
       "50%     -0.006336    0.213455    0.000000\n",
       "75%      0.478970    0.646563    1.000000\n",
       "max      1.070900    1.108900    1.000000"
      ]
     },
     "execution_count": 4,
     "metadata": {},
     "output_type": "execute_result"
    }
   ],
   "source": [
    "#A breif statistical summmary\n",
    "data.describe()"
   ]
  },
  {
   "cell_type": "code",
   "execution_count": 5,
   "id": "2eba1d31",
   "metadata": {},
   "outputs": [
    {
     "name": "stdout",
     "output_type": "stream",
     "text": [
      "0    60\n",
      "1    58\n",
      "Name: admitted, dtype: int64\n",
      "\n",
      "----------------------------------------\n",
      "\n",
      "exam1       float64\n",
      "exam2       float64\n",
      "admitted      int64\n",
      "dtype: object\n"
     ]
    }
   ],
   "source": [
    "print(data['admitted'].value_counts()) # 2 classes \n",
    "print('\\n----------------------------------------\\n')\n",
    "print(data.dtypes)  # float variables "
   ]
  },
  {
   "cell_type": "code",
   "execution_count": 6,
   "id": "bee503a8",
   "metadata": {},
   "outputs": [
    {
     "data": {
      "text/plain": [
       "Text(0, 0.5, 'exam2')"
      ]
     },
     "execution_count": 6,
     "metadata": {},
     "output_type": "execute_result"
    },
    {
     "data": {
      "image/png": "[encoded data removed]",
      "text/plain": [
       "<Figure size 432x432 with 1 Axes>"
      ]
     },
     "metadata": {
      "needs_background": "light"
     },
     "output_type": "display_data"
    }
   ],
   "source": [
    "# tracing of the two classes according to exam1 and exam2 \n",
    "fig,ax=plt.subplots(figsize=(6,6))\n",
    "ax.scatter(data[data['admitted']==0]['exam1'],data[data['admitted']==0]['exam2'],c='r',marker='o',label='rejected')\n",
    "ax.scatter(data[data['admitted']==1]['exam1'],data[data['admitted']==1]['exam2'],c='g',marker='x',label='accepted')\n",
    "ax.legend()\n",
    "ax.set_xlabel('exam1')\n",
    "ax.set_ylabel('exam2')\n"
   ]
  },
  {
   "cell_type": "code",
   "execution_count": null,
   "id": "98385dce",
   "metadata": {},
   "outputs": [],
   "source": []
  },
  {
   "cell_type": "code",
   "execution_count": 7,
   "id": "197d2e89",
   "metadata": {},
   "outputs": [],
   "source": [
    "# decomposition the data into X (input) and y(output)\n",
    "ncol=data.shape[1]\n",
    "X=data.iloc[:,0:ncol-1]\n",
    "y=data.iloc[:,ncol-1:ncol]\n"
   ]
  },
  {
   "cell_type": "code",
   "execution_count": 8,
   "id": "0baa9b2a",
   "metadata": {},
   "outputs": [],
   "source": [
    "# combination of exam1 and exam2 to create other features (power 2 and 3)\n",
    "for i in range(1,4):\n",
    "    for j in range(0,i):\n",
    "        X['X'+str(i)+str(j)]=np.multiply(np.power(X['exam1'],i),np.power(X['exam2'],j))\n",
    "        X['X'+str(j)+str(i)]=np.multiply(np.power(X['exam1'],j),np.power(X['exam2'],i))\n",
    "        "
   ]
  },
  {
   "cell_type": "code",
   "execution_count": 9,
   "id": "e9e546eb",
   "metadata": {},
   "outputs": [],
   "source": [
    "# isertion the feature of values 1\n",
    "X.insert(0,'one',1)\n",
    "X.drop(['exam1','exam2'],axis=1,inplace=True) # renamed exam1 and exam2 with (X10 and X01)"
   ]
  },
  {
   "cell_type": "code",
   "execution_count": 10,
   "id": "d8a5a23d",
   "metadata": {},
   "outputs": [
    {
     "data": {
      "text/html": [
       "<div>\n",
       "<style scoped>\n",
       "    .dataframe tbody tr th:only-of-type {\n",
       "        vertical-align: middle;\n",
       "    }\n",
       "\n",
       "    .dataframe tbody tr th {\n",
       "        vertical-align: top;\n",
       "    }\n",
       "\n",
       "    .dataframe thead th {\n",
       "        text-align: right;\n",
       "    }\n",
       "</style>\n",
       "<table border=\"1\" class=\"dataframe\">\n",
       "  <thead>\n",
       "    <tr style=\"text-align: right;\">\n",
       "      <th></th>\n",
       "      <th>one</th>\n",
       "      <th>X10</th>\n",
       "      <th>X01</th>\n",
       "      <th>X20</th>\n",
       "      <th>X02</th>\n",
       "      <th>X21</th>\n",
       "      <th>X12</th>\n",
       "      <th>X30</th>\n",
       "      <th>X03</th>\n",
       "      <th>X31</th>\n",
       "      <th>X13</th>\n",
       "      <th>X32</th>\n",
       "      <th>X23</th>\n",
       "    </tr>\n",
       "  </thead>\n",
       "  <tbody>\n",
       "    <tr>\n",
       "      <th>0</th>\n",
       "      <td>1</td>\n",
       "      <td>0.051267</td>\n",
       "      <td>0.69956</td>\n",
       "      <td>0.002628</td>\n",
       "      <td>0.489384</td>\n",
       "      <td>0.001839</td>\n",
       "      <td>0.025089</td>\n",
       "      <td>0.000135</td>\n",
       "      <td>0.342354</td>\n",
       "      <td>0.000094</td>\n",
       "      <td>0.017551</td>\n",
       "      <td>0.000066</td>\n",
       "      <td>0.000900</td>\n",
       "    </tr>\n",
       "    <tr>\n",
       "      <th>1</th>\n",
       "      <td>1</td>\n",
       "      <td>-0.092742</td>\n",
       "      <td>0.68494</td>\n",
       "      <td>0.008601</td>\n",
       "      <td>0.469143</td>\n",
       "      <td>0.005891</td>\n",
       "      <td>-0.043509</td>\n",
       "      <td>-0.000798</td>\n",
       "      <td>0.321335</td>\n",
       "      <td>-0.000546</td>\n",
       "      <td>-0.029801</td>\n",
       "      <td>-0.000374</td>\n",
       "      <td>0.002764</td>\n",
       "    </tr>\n",
       "    <tr>\n",
       "      <th>2</th>\n",
       "      <td>1</td>\n",
       "      <td>-0.213710</td>\n",
       "      <td>0.69225</td>\n",
       "      <td>0.045672</td>\n",
       "      <td>0.479210</td>\n",
       "      <td>0.031616</td>\n",
       "      <td>-0.102412</td>\n",
       "      <td>-0.009761</td>\n",
       "      <td>0.331733</td>\n",
       "      <td>-0.006757</td>\n",
       "      <td>-0.070895</td>\n",
       "      <td>-0.004677</td>\n",
       "      <td>0.015151</td>\n",
       "    </tr>\n",
       "    <tr>\n",
       "      <th>3</th>\n",
       "      <td>1</td>\n",
       "      <td>-0.375000</td>\n",
       "      <td>0.50219</td>\n",
       "      <td>0.140625</td>\n",
       "      <td>0.252195</td>\n",
       "      <td>0.070620</td>\n",
       "      <td>-0.094573</td>\n",
       "      <td>-0.052734</td>\n",
       "      <td>0.126650</td>\n",
       "      <td>-0.026483</td>\n",
       "      <td>-0.047494</td>\n",
       "      <td>-0.013299</td>\n",
       "      <td>0.017810</td>\n",
       "    </tr>\n",
       "    <tr>\n",
       "      <th>4</th>\n",
       "      <td>1</td>\n",
       "      <td>-0.513250</td>\n",
       "      <td>0.46564</td>\n",
       "      <td>0.263426</td>\n",
       "      <td>0.216821</td>\n",
       "      <td>0.122661</td>\n",
       "      <td>-0.111283</td>\n",
       "      <td>-0.135203</td>\n",
       "      <td>0.100960</td>\n",
       "      <td>-0.062956</td>\n",
       "      <td>-0.051818</td>\n",
       "      <td>-0.029315</td>\n",
       "      <td>0.026596</td>\n",
       "    </tr>\n",
       "  </tbody>\n",
       "</table>\n",
       "</div>"
      ],
      "text/plain": [
       "   one       X10      X01       X20       X02       X21       X12       X30  \\\n",
       "0    1  0.051267  0.69956  0.002628  0.489384  0.001839  0.025089  0.000135   \n",
       "1    1 -0.092742  0.68494  0.008601  0.469143  0.005891 -0.043509 -0.000798   \n",
       "2    1 -0.213710  0.69225  0.045672  0.479210  0.031616 -0.102412 -0.009761   \n",
       "3    1 -0.375000  0.50219  0.140625  0.252195  0.070620 -0.094573 -0.052734   \n",
       "4    1 -0.513250  0.46564  0.263426  0.216821  0.122661 -0.111283 -0.135203   \n",
       "\n",
       "        X03       X31       X13       X32       X23  \n",
       "0  0.342354  0.000094  0.017551  0.000066  0.000900  \n",
       "1  0.321335 -0.000546 -0.029801 -0.000374  0.002764  \n",
       "2  0.331733 -0.006757 -0.070895 -0.004677  0.015151  \n",
       "3  0.126650 -0.026483 -0.047494 -0.013299  0.017810  \n",
       "4  0.100960 -0.062956 -0.051818 -0.029315  0.026596  "
      ]
     },
     "execution_count": 10,
     "metadata": {},
     "output_type": "execute_result"
    }
   ],
   "source": [
    "X.head()"
   ]
  },
  {
   "cell_type": "code",
   "execution_count": 11,
   "id": "d21023b5",
   "metadata": {},
   "outputs": [],
   "source": [
    "########################################\"\""
   ]
  },
  {
   "cell_type": "code",
   "execution_count": 12,
   "id": "4b5f7518",
   "metadata": {},
   "outputs": [],
   "source": [
    "#  lamda and learning rate parametrs\n",
    "LAMBDA=10\n",
    "learning_rate=0.8"
   ]
  },
  {
   "cell_type": "code",
   "execution_count": null,
   "id": "36b7e7a8",
   "metadata": {},
   "outputs": [],
   "source": []
  },
  {
   "cell_type": "code",
   "execution_count": 13,
   "id": "e2c21de2",
   "metadata": {},
   "outputs": [],
   "source": [
    "# definition of the sigmoid classification function\n",
    "def sigmoid(t):\n",
    "    return (1/(1+np.exp(-t)))"
   ]
  },
  {
   "cell_type": "code",
   "execution_count": 14,
   "id": "4ebb196b",
   "metadata": {},
   "outputs": [],
   "source": [
    "# cost function with regularization\n",
    "def costreg(thetav,Xv,yv):\n",
    "    thetav=np.matrix(thetav)\n",
    "    Xv=np.matrix(Xv)\n",
    "    yv=np.matrix(yv)\n",
    "    if (thetav.shape[0]*thetav.shape[1]==Xv.shape[1]) and (yv.shape[0]*yv.shape[1]==Xv.shape[0]):\n",
    "        thetav=thetav.reshape((1,Xv.shape[1]))\n",
    "        yv=yv.reshape((Xv.shape[0],1))\n",
    "        A=sigmoid(Xv*thetav.T)\n",
    "        B=1-sigmoid(Xv*thetav.T)\n",
    "        first=np.multiply(yv,np.log(A))\n",
    "        seconde=np.multiply(1-yv,np.log(B))\n",
    "        c=(-1/Xv.shape[0])*((first+seconde).sum())\n",
    "        reg=(LAMBDA/Xv.shape[0])*(np.sum(np.power(thetav[:,5:thetav.shape[1]],2)))\n",
    "        return c+reg\n",
    "    else:\n",
    "        print('incorrect dimensions !!!')\n"
   ]
  },
  {
   "cell_type": "code",
   "execution_count": 15,
   "id": "1dcc5c58",
   "metadata": {},
   "outputs": [],
   "source": [
    "# gradient descent\n",
    "def gradd(thetag,Xg,yg):\n",
    "    thetag=np.matrix(thetag)\n",
    "    Xg=np.matrix(Xg)\n",
    "    yg=np.matrix(yg)\n",
    "    A=2*learning_rate*LAMBDA*(thetag)/Xg.shape[0]\n",
    "    A[0,0:5]=0\n",
    "    gr=(learning_rate/Xg.shape[0])*(Xg.T*(sigmoid(Xg*thetag.T)-yg)).T+A\n",
    "    return gr\n",
    " "
   ]
  },
  {
   "cell_type": "code",
   "execution_count": 16,
   "id": "b2503b17",
   "metadata": {},
   "outputs": [],
   "source": [
    "# first method to determine the optimal thetas\n",
    "def findtheta(theta,X,y):\n",
    "    theta=np.ones(X.shape[1])\n",
    "    mini=costreg(theta,X,y)\n",
    "    thetaopt=theta.copy()\n",
    "    j=0\n",
    "    for i in range(10000):\n",
    "        theta=theta-gradd(theta,X,y)\n",
    "        tmp=costreg(theta,X,y)\n",
    "        if tmp<mini:\n",
    "            mini=tmp\n",
    "            thetaopt=theta\n",
    "            j+=1\n",
    "    return (thetaopt)"
   ]
  },
  {
   "cell_type": "code",
   "execution_count": 17,
   "id": "fd23e1f7",
   "metadata": {},
   "outputs": [
    {
     "name": "stdout",
     "output_type": "stream",
     "text": [
      "\n",
      " execution time  is: 3.617077589035034\n"
     ]
    }
   ],
   "source": [
    "theta=np.ones(X.shape[1])\n",
    "start_time1=time.time()\n",
    "theaopt=findtheta(theta,X,y)\n",
    "end_time1=time.time()\n",
    "print('\\n execution time  is:',end_time1-start_time1)"
   ]
  },
  {
   "cell_type": "code",
   "execution_count": 18,
   "id": "47737287",
   "metadata": {},
   "outputs": [
    {
     "name": "stdout",
     "output_type": "stream",
     "text": [
      "accuracy first methode = 95%\n"
     ]
    }
   ],
   "source": [
    "# calculer l'accurcy\n",
    "def predict(thet,X):\n",
    "    thet=np.matrix(thet)\n",
    "    X=np.matrix(X)\n",
    "    probabiliti=sigmoid(X*thet.T)\n",
    "    return [1 if x>=0.5 else 0 for x in probabiliti]\n",
    "predictions=predict(theaopt,X)\n",
    "correct = [1 if ((a == 1 and b == 1) or (a == 0 and b == 0)) else 0 for (a, b) in zip(predictions, np.array(y.values))]\n",
    "accuracy = (sum(map(int, correct)) % len(correct))\n",
    "print ('accuracy first methode = {0}%'.format(accuracy))"
   ]
  },
  {
   "cell_type": "code",
   "execution_count": 19,
   "id": "cbed6233",
   "metadata": {},
   "outputs": [],
   "source": [
    "#####################################################################################"
   ]
  },
  {
   "cell_type": "code",
   "execution_count": 20,
   "id": "818e2105",
   "metadata": {},
   "outputs": [],
   "source": [
    "#####################################################################################"
   ]
  },
  {
   "cell_type": "code",
   "execution_count": 21,
   "id": "c86e0508",
   "metadata": {},
   "outputs": [],
   "source": [
    "# Seconde methode with optimize in scipy\n",
    "import scipy.optimize as opt"
   ]
  },
  {
   "cell_type": "code",
   "execution_count": 22,
   "id": "f61934a0",
   "metadata": {},
   "outputs": [
    {
     "name": "stdout",
     "output_type": "stream",
     "text": [
      "\n",
      " execution time  is: 0.021973609924316406\n"
     ]
    }
   ],
   "source": [
    "start_time2=time.time()\n",
    "result=opt.fmin_tnc(func=costreg,x0=theta,fprime=gradd,args=(X,y))\n",
    "end_time2=time.time()\n",
    "print('\\n execution time  is:',end_time2-start_time2)\n"
   ]
  },
  {
   "cell_type": "code",
   "execution_count": 23,
   "id": "d9f06b44",
   "metadata": {},
   "outputs": [
    {
     "data": {
      "text/plain": [
       "(array([ 3.81245887e+00,  1.37608825e+00,  2.31675711e+00, -8.45190998e+00,\n",
       "        -7.77597929e+00, -2.14454276e-02, -3.96349534e-02, -3.53448100e-03,\n",
       "        -2.29431058e-02, -3.94132974e-02, -6.13879200e-02, -6.09567445e-03,\n",
       "        -1.02284282e-02]),\n",
       " 46,\n",
       " 1)"
      ]
     },
     "execution_count": 23,
     "metadata": {},
     "output_type": "execute_result"
    }
   ],
   "source": [
    "result"
   ]
  },
  {
   "cell_type": "code",
   "execution_count": 24,
   "id": "9616afb0",
   "metadata": {},
   "outputs": [],
   "source": [
    "thetamin=result[0]\n",
    "predictions=predict(thetamin,X)"
   ]
  },
  {
   "cell_type": "code",
   "execution_count": 25,
   "id": "81ab38fc",
   "metadata": {},
   "outputs": [],
   "source": [
    "correct = [1 if ((a == 1 and b == 1) or (a == 0 and b == 0)) else 0 for (a, b) in zip(predictions, np.array(y))]"
   ]
  },
  {
   "cell_type": "code",
   "execution_count": 26,
   "id": "d6671419",
   "metadata": {},
   "outputs": [],
   "source": [
    "accuracy = (sum(map(int, correct)) % len(correct))"
   ]
  },
  {
   "cell_type": "code",
   "execution_count": 27,
   "id": "4342d46c",
   "metadata": {},
   "outputs": [
    {
     "name": "stdout",
     "output_type": "stream",
     "text": [
      "accuracy seconde methode = 95%\n"
     ]
    }
   ],
   "source": [
    "print ('accuracy seconde methode = {0}%'.format(accuracy))"
   ]
  },
  {
   "cell_type": "code",
   "execution_count": 28,
   "id": "6d38b348",
   "metadata": {},
   "outputs": [],
   "source": [
    "###############################################################"
   ]
  },
  {
   "cell_type": "code",
   "execution_count": 29,
   "id": "288e9d68",
   "metadata": {},
   "outputs": [],
   "source": [
    "###############################################################"
   ]
  },
  {
   "cell_type": "code",
   "execution_count": 30,
   "id": "21d70a79",
   "metadata": {},
   "outputs": [],
   "source": [
    "# plotting thetas equations"
   ]
  },
  {
   "cell_type": "code",
   "execution_count": 31,
   "id": "fb12d5d9",
   "metadata": {},
   "outputs": [
    {
     "data": {
      "image/png": "[encoded data removed]",
      "text/plain": [
       "<Figure size 576x576 with 1 Axes>"
      ]
     },
     "metadata": {
      "needs_background": "light"
     },
     "output_type": "display_data"
    }
   ],
   "source": [
    "# Define coefficients of X1(exam1) and X2(axam2)\n",
    "T0,T1,T2,T3,T4,T5,T6,T7,T8,T9,T10,T11,T12 = list(np.array(theaopt.reshape(13,1)))  # Coefficient de x₁\n",
    "\n",
    "# Set the range of variables x₁ and x₂\n",
    "x1 = np.linspace(-1, 1, 400)  # range x₁\n",
    "x2 = np.linspace(-1, 1, 400)  # range x₂\n",
    "x1, x2 = np.meshgrid(x1, x2)    # Creating a 2D grid\n",
    "\n",
    "# Calculate the equation\n",
    "z = T0 + T1*x1 + T2*x2 + T3*x1**2 + T4*x2**2 + T5*x2*x1**2 + T6*x1*x2**2 + T7*x1**3 + T8*x2**3 + T9*x2*x1**3+ T10*x1*x2**3+ (T11*x1**3)*x2**2 + (T12*x2**3)*x1**2\n",
    "\n",
    "# Draw the contour line for z = 0\n",
    "plt.figure(figsize=(8, 8))\n",
    "contour = plt.contour(x1, x2, z, levels=[0], colors='blue')\n",
    "plt.scatter(data[data['admitted']==0]['exam1'],data[data['admitted']==0]['exam2'],c='r',marker='o',label='rejected')\n",
    "plt.scatter(data[data['admitted']==1]['exam1'],data[data['admitted']==1]['exam2'],c='g',marker='x',label='accepted')\n",
    "plt.clabel(contour, inline=True, fontsize=10)\n",
    "plt.title(r'Courbe $z = 0$')\n",
    "plt.xlabel(r'$x₁$')\n",
    "plt.ylabel(r'$x₂$')\n",
    "plt.legend()\n",
    "plt.grid(True)\n",
    "plt.axhline(0, color='black', linewidth=0.8)\n",
    "plt.axvline(0, color='black', linewidth=0.8)\n",
    "plt.show()"
   ]
  },
  {
   "cell_type": "code",
   "execution_count": null,
   "id": "d2eb165c",
   "metadata": {},
   "outputs": [],
   "source": []
  },
  {
   "cell_type": "code",
   "execution_count": null,
   "id": "011f41d1",
   "metadata": {},
   "outputs": [],
   "source": []
  }
 ],
 "metadata": {
  "kernelspec": {
   "display_name": "Python 3 (ipykernel)",
   "language": "python",
   "name": "python3"
  },
  "language_info": {
   "codemirror_mode": {
    "name": "ipython",
    "version": 3
   },
   "file_extension": ".py",
   "mimetype": "text/x-python",
   "name": "python",
   "nbconvert_exporter": "python",
   "pygments_lexer": "ipython3",
   "version": "3.9.12"
  }
 },
 "nbformat": 4,
 "nbformat_minor": 5
}
